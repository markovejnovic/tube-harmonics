{
 "cells": [
  {
   "cell_type": "code",
   "execution_count": 42,
   "metadata": {},
   "outputs": [],
   "source": [
    "import numpy as np\n",
    "from scipy.io import wavfile\n",
    "%matplotlib inline\n",
    "import matplotlib.pyplot as plt\n",
    "from IPython.display import Audio\n",
    "from scipy.fft import rfft, rfftfreq\n",
    "from scipy.signal import find_peaks"
   ]
  },
  {
   "cell_type": "code",
   "execution_count": 138,
   "metadata": {},
   "outputs": [],
   "source": [
    "tube_lengths = np.array([313, 296, 275, 255, 235, 215, 195, 175, 155, 135, 115, 95, 75]) * 1e-3\n",
    "tube_length_err = 0.5 * 1e-3"
   ]
  },
  {
   "cell_type": "code",
   "execution_count": 166,
   "metadata": {},
   "outputs": [
    {
     "data": {
      "image/png": "[encoded data removed]",
      "text/plain": [
       "<Figure size 432x288 with 2 Axes>"
      ]
     },
     "metadata": {
      "needs_background": "light"
     },
     "output_type": "display_data"
    }
   ],
   "source": [
    "tube_lengths = np.array([255]) * 1e-3\n",
    "for tube_length in tube_lengths:\n",
    "    # Load the file.\n",
    "    rate, audio = wavfile.read('../Data/' + str(int(tube_length * 1e3)) + '.wav')\n",
    "    audio_N = audio.shape[0]\n",
    "    audio_len = audio_N / rate\n",
    "    audio_norm = audio / np.max(audio)\n",
    "    \n",
    "    # Make a subplot\n",
    "    fig, axs = plt.subplots(1,2)\n",
    "    \n",
    "    # Calculate the Fourier Transform and plot it, up to 3.5kHz\n",
    "    freqs = rfftfreq(audio_N, 1 / rate)\n",
    "    audio_ft = np.abs(rfft(audio_norm))\n",
    "    axs[0].plot(freqs, audio_ft)\n",
    "    axs[0].set_xlim(0, 3500)\n",
    "    \n",
    "    # Normalize the Fourier Transform\n",
    "    ft_norm = audio_ft / np.max(audio_ft)\n",
    "    \n",
    "    # Find peaks\n",
    "    peaksi, _ = find_peaks(ft_norm, prominence=0.05, distance=800)\n",
    "    peak_freqs = freqs[peaksi]\n",
    "    peak_values = ft_norm[peaksi]\n",
    "    axs[1].plot(freqs, ft_norm)\n",
    "    axs[1].plot(peak_freqs, peak_values, 'x')\n",
    "    axs[1].set_xlim(0, 3500)\n",
    "    \n",
    "    # Print out a table\n",
    "    peak_freqs"
   ]
  }
 ],
 "metadata": {
  "kernelspec": {
   "display_name": "Python 3",
   "language": "python",
   "name": "python3"
  },
  "language_info": {
   "codemirror_mode": {
    "name": "ipython",
    "version": 3
   },
   "file_extension": ".py",
   "mimetype": "text/x-python",
   "name": "python",
   "nbconvert_exporter": "python",
   "pygments_lexer": "ipython3",
   "version": "3.9.2"
  }
 },
 "nbformat": 4,
 "nbformat_minor": 4
}
